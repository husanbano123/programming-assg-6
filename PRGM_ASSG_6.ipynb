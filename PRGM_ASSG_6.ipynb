{
 "cells": [
  {
   "cell_type": "code",
   "execution_count": null,
   "id": "164f506e",
   "metadata": {},
   "outputs": [],
   "source": [
    "1.\tWrite a Python Program to Display Fibonacci Sequence Using Recursion?\n",
    "2.\tWrite a Python Program to Find Factorial of Number Using Recursion?\n",
    "3.\tWrite a Python Program to calculate your Body Mass Index?\n",
    "4.\tWrite a Python Program to calculate the natural logarithm of any number?\n",
    "5.\tWrite a Python Program for cube sum of first n natural numbers?\n"
   ]
  },
  {
   "cell_type": "code",
   "execution_count": 1,
   "id": "ac1e727c",
   "metadata": {},
   "outputs": [],
   "source": [
    "#Fibonacci Sequence Using Recursion\n",
    "def fib(n):\n",
    "    a=1\n",
    "    b=1\n",
    "    for i in range(n):\n",
    "        yield a\n",
    "        a,b=b,a+b"
   ]
  },
  {
   "cell_type": "code",
   "execution_count": 2,
   "id": "d517559e",
   "metadata": {},
   "outputs": [
    {
     "data": {
      "text/plain": [
       "<generator object fib at 0x0000017610A75040>"
      ]
     },
     "execution_count": 2,
     "metadata": {},
     "output_type": "execute_result"
    }
   ],
   "source": [
    "fib(10)"
   ]
  },
  {
   "cell_type": "code",
   "execution_count": 3,
   "id": "b6565aa3",
   "metadata": {},
   "outputs": [
    {
     "name": "stdout",
     "output_type": "stream",
     "text": [
      "1\n",
      "1\n",
      "2\n",
      "3\n",
      "5\n",
      "8\n",
      "13\n",
      "21\n",
      "34\n",
      "55\n"
     ]
    }
   ],
   "source": [
    " for i in fib(10):\n",
    "        print(i)\n",
    "    \n",
    "    "
   ]
  },
  {
   "cell_type": "code",
   "execution_count": 4,
   "id": "8511cd9b",
   "metadata": {},
   "outputs": [],
   "source": [
    "# Factorial of Number Using Recursion\n",
    "def fact(n):\n",
    "    if n==1:\n",
    "        return n\n",
    "    else:\n",
    "        return n*fact(n-1)\n",
    "        "
   ]
  },
  {
   "cell_type": "code",
   "execution_count": 5,
   "id": "47e0fb58",
   "metadata": {},
   "outputs": [
    {
     "data": {
      "text/plain": [
       "40320"
      ]
     },
     "execution_count": 5,
     "metadata": {},
     "output_type": "execute_result"
    }
   ],
   "source": [
    "fact(8)"
   ]
  },
  {
   "cell_type": "code",
   "execution_count": 4,
   "id": "1ff99924",
   "metadata": {},
   "outputs": [
    {
     "name": "stdout",
     "output_type": "stream",
     "text": [
      "enter wight in kg:72\n",
      "enter height in cm:162\n",
      "your BMI is  27.43484224965706\n",
      "you are in overweight range\n"
     ]
    }
   ],
   "source": [
    "#your Body Mass Index\n",
    "\n",
    "kg=float(input(\"enter wight in kg:\"))\n",
    "m=float(input(\"enter height in cm:\"))\n",
    "bmi=kg/(m/100)**2\n",
    "print(f\"your BMI is \",bmi)\n",
    "if bmi<18.5:\n",
    "    print(\"you are underweight range\")\n",
    "elif 18.2<bmi<24.9:\n",
    "    print(\"you are in health fit range\")\n",
    "elif 25<bmi<29.9:\n",
    "    print(\"you are in overweight range\")\n",
    "elif 30<bmi<39.9:\n",
    "    print(\"you are in obese range\")\n",
    "else:\n",
    "    print(\"over obese range\")\n",
    "    "
   ]
  },
  {
   "cell_type": "code",
   "execution_count": 10,
   "id": "53b49b09",
   "metadata": {},
   "outputs": [
    {
     "name": "stdout",
     "output_type": "stream",
     "text": [
      "enter wight in kg:72\n",
      "enter height in cm:162\n"
     ]
    },
    {
     "data": {
      "text/plain": [
       "27.43484224965706"
      ]
     },
     "execution_count": 10,
     "metadata": {},
     "output_type": "execute_result"
    }
   ],
   "source": [
    "mass(25)"
   ]
  },
  {
   "cell_type": "code",
   "execution_count": 32,
   "id": "eddbcc3d",
   "metadata": {},
   "outputs": [
    {
     "name": "stdout",
     "output_type": "stream",
     "text": [
      "enter any no:10\n",
      "natural log of a is :2.302585092994046\n"
     ]
    }
   ],
   "source": [
    "#natural logarithm of any number\n",
    "import math\n",
    "a=int(input(\"enter any no:\"))\n",
    "print(\"natural log of a is :\",end=\"\")\n",
    "print(math.log(a))"
   ]
  },
  {
   "cell_type": "code",
   "execution_count": 26,
   "id": "5fbd7203",
   "metadata": {},
   "outputs": [
    {
     "name": "stdout",
     "output_type": "stream",
     "text": [
      "enter any no:5\n",
      "sum of cube is 225\n"
     ]
    }
   ],
   "source": [
    "#sum of cube of n natural no:\n",
    "n=int(input(\"enter any no:\"))\n",
    "s=0\n",
    "for i in range(1,n+1):\n",
    "    s=s+pow(i,3)\n",
    "print(\"sum of cube is\",s)\n",
    "   \n",
    "    "
   ]
  },
  {
   "cell_type": "code",
   "execution_count": null,
   "id": "3ee06e31",
   "metadata": {},
   "outputs": [],
   "source": []
  },
  {
   "cell_type": "code",
   "execution_count": null,
   "id": "0b145bbb",
   "metadata": {},
   "outputs": [],
   "source": []
  }
 ],
 "metadata": {
  "kernelspec": {
   "display_name": "Python 3 (ipykernel)",
   "language": "python",
   "name": "python3"
  },
  "language_info": {
   "codemirror_mode": {
    "name": "ipython",
    "version": 3
   },
   "file_extension": ".py",
   "mimetype": "text/x-python",
   "name": "python",
   "nbconvert_exporter": "python",
   "pygments_lexer": "ipython3",
   "version": "3.9.7"
  }
 },
 "nbformat": 4,
 "nbformat_minor": 5
}
